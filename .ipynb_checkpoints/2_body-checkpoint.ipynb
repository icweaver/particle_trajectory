{
 "cells": [
  {
   "cell_type": "code",
   "execution_count": 1,
   "metadata": {
    "collapsed": true
   },
   "outputs": [],
   "source": [
    "# Trajectory code in two point mass gravity, co-rotating frame"
   ]
  },
  {
   "cell_type": "code",
   "execution_count": 2,
   "metadata": {
    "collapsed": false
   },
   "outputs": [],
   "source": [
    "import matplotlib.pylab as plt\n",
    "import numpy as np\n",
    "\n",
    "from astropy import units as u\n",
    "from astropy import constants as c\n",
    "\n",
    "%matplotlib inline"
   ]
  },
  {
   "cell_type": "markdown",
   "metadata": {},
   "source": [
    "## Constants"
   ]
  },
  {
   "cell_type": "code",
   "execution_count": 9,
   "metadata": {
    "collapsed": true
   },
   "outputs": [],
   "source": [
    "# cgs units\n",
    "solMass = 1.9819E33\n",
    "jupMass = 1.8986E30\n",
    "G       = 6.67259E-8\n",
    "AU      = 1.496E13"
   ]
  },
  {
   "cell_type": "markdown",
   "metadata": {},
   "source": [
    "## System Parameters"
   ]
  },
  {
   "cell_type": "code",
   "execution_count": 19,
   "metadata": {
    "collapsed": false
   },
   "outputs": [],
   "source": [
    "M1 = 1.35*solMass\n",
    "M2 = 1.41*jupMass\n",
    "\n",
    "# COM at origin\n",
    "a0    = 0.0229*AU # binary separation\n",
    "M1r0  = np.array([a0 * M2/(M1 + M2), 0, 0], dtype=object) # mass 1 coordinates\n",
    "M2r0  = np.array([a0 * -M1/(M1 + M2), 0, 0], dtype=object) # mass 2 coordinates\n",
    "Omega = np.array([0, 0, (G*(M1 + M2))**0.5 / a0**1.5], dtype=object) # system angular velocity"
   ]
  },
  {
   "cell_type": "markdown",
   "metadata": {},
   "source": [
    "## Calculate vel and accel"
   ]
  },
  {
   "cell_type": "code",
   "execution_count": 20,
   "metadata": {
    "collapsed": false
   },
   "outputs": [],
   "source": [
    "def sho_func(t, uin): # calculates derivatives for RK4\n",
    "    # position and velocity\n",
    "    r = uin[:3]\n",
    "    v = uin[3:]\n",
    "    \n",
    "    # distance of point mass from each M\n",
    "    d1 = np.linalg.norm(M1r0 - r)\n",
    "    d2 = np.linalg.norm(M2r0 - r)\n",
    "\n",
    "    # calulating accelerations\n",
    "    g_ctrfg = (np.linalg.norm(Omega)**2) * r\n",
    "    g_cor   = -2 * np.cross(Omega, v)\n",
    "    g1      = (G*M1/d1**3) * (M1r0 - r)\n",
    "    g2      = (G*M2/d2**3) * (M2r0 - r)\n",
    "    \n",
    "    derivs = np.ndarray(6)\n",
    "    derivs[:3] = v\n",
    "    derivs[3:] = g1 + g2 + g_ctrfg + g_cor\n",
    "    \n",
    "    return derivs"
   ]
  },
  {
   "cell_type": "markdown",
   "metadata": {},
   "source": [
    "## L1 Finder"
   ]
  },
  {
   "cell_type": "code",
   "execution_count": 15,
   "metadata": {
    "collapsed": false
   },
   "outputs": [],
   "source": [
    "def sho_L1(M1x0, M2x0, tol): #finds L1 to tolerance in net accel. M1 on negative x-axis, M2 on pos\n",
    "    udum  = np.ndarray(6)\n",
    "    \n",
    "    udum[0]  = (M1x0 + M2x0)/2 # first test cut \n",
    "    dummy    = sho_func(0.0, udum) # finds acceleration at test cut\n",
    "    acc      = dummy[3] # holds the acceleration\n",
    "    up       = M1x0\n",
    "    down     = M2x0\n",
    "    \n",
    "    n = 0\n",
    "    while (np.abs(acc) > tol):\n",
    "        if (acc < 0.0):\n",
    "            down = udum[0]\n",
    "            udum[0] = (up + udum[0])/2 # moves cut over half\n",
    "        else:\n",
    "            up = udum[0]\n",
    "            udum[0] = (down + udum[0])/2 # moves the other way\n",
    "        dummy = sho_func(0.0, udum)\n",
    "        acc   = dummy[3]\n",
    "        \n",
    "        n = n+1\n",
    "\n",
    "        if(n > 200):\n",
    "            break # just in case\n",
    "            \n",
    "    L1 = udum[0]\n",
    "    \n",
    "    return L1"
   ]
  },
  {
   "cell_type": "markdown",
   "metadata": {},
   "source": [
    "## Integrator"
   ]
  },
  {
   "cell_type": "code",
   "execution_count": 16,
   "metadata": {
    "collapsed": false
   },
   "outputs": [],
   "source": [
    "def sho_RK4(t, u_old):\n",
    "    K1 = sho_func(t, u_old)\n",
    "    K2 = sho_func(t + dt/2, u_old + K1*dt/2)\n",
    "    K3 = sho_func(t + dt/2, u_old + K2*dt/2)\n",
    "    K4 = sho_func(t + dt, u_old + K3*dt)\n",
    "    \n",
    "    u_new = u_old + (dt/6)*(K1 + 2*(K2 + K3) + K4)\n",
    "    return u_new"
   ]
  },
  {
   "cell_type": "markdown",
   "metadata": {},
   "source": [
    "## Program"
   ]
  },
  {
   "cell_type": "code",
   "execution_count": 33,
   "metadata": {
    "collapsed": false,
    "scrolled": false
   },
   "outputs": [],
   "source": [
    "# Initial conditions\n",
    "b1 = sho_L1(M1r0[0], M2r0[0], 1E-9)\n",
    "vorb = np.sqrt(G * M1 / AU) \n",
    "\n",
    "x = -b1\n",
    "y = -0.1\n",
    "z = 0\n",
    "\n",
    "vx = 790740.63049190654  #vorb * np.sqrt(2)/2\n",
    "vy = 0.0\n",
    "vz = 0.0\n",
    "\n",
    "pos_0 = np.array([x, y, z])\n",
    "vel_0 = np.array([vx, vy, vz])\n",
    "\n",
    "uold = np.ndarray(6)\n",
    "uold[:3] = pos_0\n",
    "uold[3:] = vel_0\n",
    "\n",
    "T = 94452.008132351519/10 #2 * np.pi / np.linalg.norm(Omega) # orbital period\n",
    "tmax  =  3*T\n",
    "\n",
    "dt = tmax/6000 \n",
    "\n",
    "x = []\n",
    "y = []\n",
    "x.append(uold[0])\n",
    "y.append(uold[1])\n",
    "\n",
    "for t in np.arange(0, tmax+dt, dt):\n",
    "    unew = sho_RK4(t, uold)\n",
    "        \n",
    "    x.append(unew[0])\n",
    "    y.append(unew[1])\n",
    "    \n",
    "    uold = unew # step forward"
   ]
  },
  {
   "cell_type": "markdown",
   "metadata": {},
   "source": [
    "## XY Plot"
   ]
  },
  {
   "cell_type": "code",
   "execution_count": 34,
   "metadata": {
    "collapsed": false
   },
   "outputs": [
    {
     "data": {
      "text/plain": [
       "[<matplotlib.lines.Line2D at 0x1053d9240>]"
      ]
     },
     "execution_count": 34,
     "metadata": {},
     "output_type": "execute_result"
    },
    {
     "data": {
      "image/png": "[encoded data removed]",
      "text/plain": [
       "<matplotlib.figure.Figure at 0x105316b38>"
      ]
     },
     "metadata": {},
     "output_type": "display_data"
    }
   ],
   "source": [
    "plt.plot(x, y)"
   ]
  },
  {
   "cell_type": "code",
   "execution_count": 32,
   "metadata": {
    "collapsed": false
   },
   "outputs": [
    {
     "data": {
      "text/plain": [
       "342428453.54559457"
      ]
     },
     "execution_count": 32,
     "metadata": {},
     "output_type": "execute_result"
    }
   ],
   "source": [
    "b1"
   ]
  }
 ],
 "metadata": {
  "kernelspec": {
   "display_name": "Python 2",
   "language": "python",
   "name": "python2"
  },
  "language_info": {
   "codemirror_mode": {
    "name": "ipython",
    "version": 2
   },
   "file_extension": ".py",
   "mimetype": "text/x-python",
   "name": "python",
   "nbconvert_exporter": "python",
   "pygments_lexer": "ipython2",
   "version": "2.7.13"
  }
 },
 "nbformat": 4,
 "nbformat_minor": 0
}
